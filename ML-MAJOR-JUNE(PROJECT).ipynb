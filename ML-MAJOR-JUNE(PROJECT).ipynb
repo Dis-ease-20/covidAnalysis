{
 "cells": [
  {
   "cell_type": "markdown",
   "metadata": {},
   "source": [
    "Programmed By:- Vinita Kumari Pal"
   ]
  },
  {
   "cell_type": "markdown",
   "metadata": {},
   "source": [
    "# Covid-Data-Analysis"
   ]
  },
  {
   "cell_type": "markdown",
   "metadata": {},
   "source": [
    "# Importing Dataset"
   ]
  },
  {
   "cell_type": "code",
   "execution_count": 1,
   "metadata": {},
   "outputs": [],
   "source": [
    "import pandas as pd\n",
    "import numpy as np"
   ]
  },
  {
   "cell_type": "code",
   "execution_count": 2,
   "metadata": {},
   "outputs": [],
   "source": [
    "df=pd.read_csv(\"owid-covid-data-1.csv\")"
   ]
  },
  {
   "cell_type": "code",
   "execution_count": 3,
   "metadata": {},
   "outputs": [
    {
     "data": {
      "text/html": [
       "<div>\n",
       "<style scoped>\n",
       "    .dataframe tbody tr th:only-of-type {\n",
       "        vertical-align: middle;\n",
       "    }\n",
       "\n",
       "    .dataframe tbody tr th {\n",
       "        vertical-align: top;\n",
       "    }\n",
       "\n",
       "    .dataframe thead th {\n",
       "        text-align: right;\n",
       "    }\n",
       "</style>\n",
       "<table border=\"1\" class=\"dataframe\">\n",
       "  <thead>\n",
       "    <tr style=\"text-align: right;\">\n",
       "      <th></th>\n",
       "      <th>iso_code</th>\n",
       "      <th>continent</th>\n",
       "      <th>location</th>\n",
       "      <th>date</th>\n",
       "      <th>total_cases</th>\n",
       "      <th>new_cases</th>\n",
       "      <th>new_cases_smoothed</th>\n",
       "      <th>total_deaths</th>\n",
       "      <th>new_deaths</th>\n",
       "      <th>new_deaths_smoothed</th>\n",
       "      <th>...</th>\n",
       "      <th>aged_70_older</th>\n",
       "      <th>gdp_per_capita</th>\n",
       "      <th>extreme_poverty</th>\n",
       "      <th>cardiovasc_death_rate</th>\n",
       "      <th>diabetes_prevalence</th>\n",
       "      <th>female_smokers</th>\n",
       "      <th>male_smokers</th>\n",
       "      <th>handwashing_facilities</th>\n",
       "      <th>hospital_beds_per_thousand</th>\n",
       "      <th>life_expectancy</th>\n",
       "    </tr>\n",
       "  </thead>\n",
       "  <tbody>\n",
       "    <tr>\n",
       "      <th>0</th>\n",
       "      <td>ABW</td>\n",
       "      <td>North America</td>\n",
       "      <td>Aruba</td>\n",
       "      <td>13-03-2020</td>\n",
       "      <td>2.0</td>\n",
       "      <td>2.0</td>\n",
       "      <td>NaN</td>\n",
       "      <td>0.0</td>\n",
       "      <td>0.0</td>\n",
       "      <td>NaN</td>\n",
       "      <td>...</td>\n",
       "      <td>7.452</td>\n",
       "      <td>35973.781</td>\n",
       "      <td>NaN</td>\n",
       "      <td>NaN</td>\n",
       "      <td>11.62</td>\n",
       "      <td>NaN</td>\n",
       "      <td>NaN</td>\n",
       "      <td>NaN</td>\n",
       "      <td>NaN</td>\n",
       "      <td>76.29</td>\n",
       "    </tr>\n",
       "    <tr>\n",
       "      <th>1</th>\n",
       "      <td>ABW</td>\n",
       "      <td>North America</td>\n",
       "      <td>Aruba</td>\n",
       "      <td>20-03-2020</td>\n",
       "      <td>4.0</td>\n",
       "      <td>2.0</td>\n",
       "      <td>0.286</td>\n",
       "      <td>0.0</td>\n",
       "      <td>0.0</td>\n",
       "      <td>0.000</td>\n",
       "      <td>...</td>\n",
       "      <td>7.452</td>\n",
       "      <td>35973.781</td>\n",
       "      <td>NaN</td>\n",
       "      <td>NaN</td>\n",
       "      <td>11.62</td>\n",
       "      <td>NaN</td>\n",
       "      <td>NaN</td>\n",
       "      <td>NaN</td>\n",
       "      <td>NaN</td>\n",
       "      <td>76.29</td>\n",
       "    </tr>\n",
       "    <tr>\n",
       "      <th>2</th>\n",
       "      <td>ABW</td>\n",
       "      <td>North America</td>\n",
       "      <td>Aruba</td>\n",
       "      <td>24-03-2020</td>\n",
       "      <td>12.0</td>\n",
       "      <td>8.0</td>\n",
       "      <td>0.286</td>\n",
       "      <td>0.0</td>\n",
       "      <td>0.0</td>\n",
       "      <td>0.000</td>\n",
       "      <td>...</td>\n",
       "      <td>7.452</td>\n",
       "      <td>35973.781</td>\n",
       "      <td>NaN</td>\n",
       "      <td>NaN</td>\n",
       "      <td>11.62</td>\n",
       "      <td>NaN</td>\n",
       "      <td>NaN</td>\n",
       "      <td>NaN</td>\n",
       "      <td>NaN</td>\n",
       "      <td>76.29</td>\n",
       "    </tr>\n",
       "    <tr>\n",
       "      <th>3</th>\n",
       "      <td>ABW</td>\n",
       "      <td>North America</td>\n",
       "      <td>Aruba</td>\n",
       "      <td>25-03-2020</td>\n",
       "      <td>17.0</td>\n",
       "      <td>5.0</td>\n",
       "      <td>0.286</td>\n",
       "      <td>0.0</td>\n",
       "      <td>0.0</td>\n",
       "      <td>0.000</td>\n",
       "      <td>...</td>\n",
       "      <td>7.452</td>\n",
       "      <td>35973.781</td>\n",
       "      <td>NaN</td>\n",
       "      <td>NaN</td>\n",
       "      <td>11.62</td>\n",
       "      <td>NaN</td>\n",
       "      <td>NaN</td>\n",
       "      <td>NaN</td>\n",
       "      <td>NaN</td>\n",
       "      <td>76.29</td>\n",
       "    </tr>\n",
       "    <tr>\n",
       "      <th>4</th>\n",
       "      <td>ABW</td>\n",
       "      <td>North America</td>\n",
       "      <td>Aruba</td>\n",
       "      <td>26-03-2020</td>\n",
       "      <td>19.0</td>\n",
       "      <td>2.0</td>\n",
       "      <td>0.286</td>\n",
       "      <td>0.0</td>\n",
       "      <td>0.0</td>\n",
       "      <td>0.000</td>\n",
       "      <td>...</td>\n",
       "      <td>7.452</td>\n",
       "      <td>35973.781</td>\n",
       "      <td>NaN</td>\n",
       "      <td>NaN</td>\n",
       "      <td>11.62</td>\n",
       "      <td>NaN</td>\n",
       "      <td>NaN</td>\n",
       "      <td>NaN</td>\n",
       "      <td>NaN</td>\n",
       "      <td>76.29</td>\n",
       "    </tr>\n",
       "    <tr>\n",
       "      <th>...</th>\n",
       "      <td>...</td>\n",
       "      <td>...</td>\n",
       "      <td>...</td>\n",
       "      <td>...</td>\n",
       "      <td>...</td>\n",
       "      <td>...</td>\n",
       "      <td>...</td>\n",
       "      <td>...</td>\n",
       "      <td>...</td>\n",
       "      <td>...</td>\n",
       "      <td>...</td>\n",
       "      <td>...</td>\n",
       "      <td>...</td>\n",
       "      <td>...</td>\n",
       "      <td>...</td>\n",
       "      <td>...</td>\n",
       "      <td>...</td>\n",
       "      <td>...</td>\n",
       "      <td>...</td>\n",
       "      <td>...</td>\n",
       "      <td>...</td>\n",
       "    </tr>\n",
       "    <tr>\n",
       "      <th>38044</th>\n",
       "      <td>NaN</td>\n",
       "      <td>NaN</td>\n",
       "      <td>NaN</td>\n",
       "      <td>NaN</td>\n",
       "      <td>NaN</td>\n",
       "      <td>NaN</td>\n",
       "      <td>0.000</td>\n",
       "      <td>NaN</td>\n",
       "      <td>NaN</td>\n",
       "      <td>0.286</td>\n",
       "      <td>...</td>\n",
       "      <td>NaN</td>\n",
       "      <td>NaN</td>\n",
       "      <td>NaN</td>\n",
       "      <td>NaN</td>\n",
       "      <td>NaN</td>\n",
       "      <td>NaN</td>\n",
       "      <td>NaN</td>\n",
       "      <td>NaN</td>\n",
       "      <td>NaN</td>\n",
       "      <td>NaN</td>\n",
       "    </tr>\n",
       "    <tr>\n",
       "      <th>38045</th>\n",
       "      <td>NaN</td>\n",
       "      <td>NaN</td>\n",
       "      <td>NaN</td>\n",
       "      <td>NaN</td>\n",
       "      <td>NaN</td>\n",
       "      <td>NaN</td>\n",
       "      <td>0.000</td>\n",
       "      <td>NaN</td>\n",
       "      <td>NaN</td>\n",
       "      <td>0.000</td>\n",
       "      <td>...</td>\n",
       "      <td>NaN</td>\n",
       "      <td>NaN</td>\n",
       "      <td>NaN</td>\n",
       "      <td>NaN</td>\n",
       "      <td>NaN</td>\n",
       "      <td>NaN</td>\n",
       "      <td>NaN</td>\n",
       "      <td>NaN</td>\n",
       "      <td>NaN</td>\n",
       "      <td>NaN</td>\n",
       "    </tr>\n",
       "    <tr>\n",
       "      <th>38046</th>\n",
       "      <td>NaN</td>\n",
       "      <td>NaN</td>\n",
       "      <td>NaN</td>\n",
       "      <td>NaN</td>\n",
       "      <td>NaN</td>\n",
       "      <td>NaN</td>\n",
       "      <td>0.000</td>\n",
       "      <td>NaN</td>\n",
       "      <td>NaN</td>\n",
       "      <td>0.000</td>\n",
       "      <td>...</td>\n",
       "      <td>NaN</td>\n",
       "      <td>NaN</td>\n",
       "      <td>NaN</td>\n",
       "      <td>NaN</td>\n",
       "      <td>NaN</td>\n",
       "      <td>NaN</td>\n",
       "      <td>NaN</td>\n",
       "      <td>NaN</td>\n",
       "      <td>NaN</td>\n",
       "      <td>NaN</td>\n",
       "    </tr>\n",
       "    <tr>\n",
       "      <th>38047</th>\n",
       "      <td>NaN</td>\n",
       "      <td>NaN</td>\n",
       "      <td>NaN</td>\n",
       "      <td>NaN</td>\n",
       "      <td>NaN</td>\n",
       "      <td>NaN</td>\n",
       "      <td>0.000</td>\n",
       "      <td>NaN</td>\n",
       "      <td>NaN</td>\n",
       "      <td>0.000</td>\n",
       "      <td>...</td>\n",
       "      <td>NaN</td>\n",
       "      <td>NaN</td>\n",
       "      <td>NaN</td>\n",
       "      <td>NaN</td>\n",
       "      <td>NaN</td>\n",
       "      <td>NaN</td>\n",
       "      <td>NaN</td>\n",
       "      <td>NaN</td>\n",
       "      <td>NaN</td>\n",
       "      <td>NaN</td>\n",
       "    </tr>\n",
       "    <tr>\n",
       "      <th>38048</th>\n",
       "      <td>NaN</td>\n",
       "      <td>NaN</td>\n",
       "      <td>NaN</td>\n",
       "      <td>NaN</td>\n",
       "      <td>NaN</td>\n",
       "      <td>NaN</td>\n",
       "      <td>-1.286</td>\n",
       "      <td>NaN</td>\n",
       "      <td>NaN</td>\n",
       "      <td>0.143</td>\n",
       "      <td>...</td>\n",
       "      <td>NaN</td>\n",
       "      <td>NaN</td>\n",
       "      <td>NaN</td>\n",
       "      <td>NaN</td>\n",
       "      <td>NaN</td>\n",
       "      <td>NaN</td>\n",
       "      <td>NaN</td>\n",
       "      <td>NaN</td>\n",
       "      <td>NaN</td>\n",
       "      <td>NaN</td>\n",
       "    </tr>\n",
       "  </tbody>\n",
       "</table>\n",
       "<p>38049 rows × 40 columns</p>\n",
       "</div>"
      ],
      "text/plain": [
       "      iso_code      continent location        date  total_cases  new_cases  \\\n",
       "0          ABW  North America    Aruba  13-03-2020          2.0        2.0   \n",
       "1          ABW  North America    Aruba  20-03-2020          4.0        2.0   \n",
       "2          ABW  North America    Aruba  24-03-2020         12.0        8.0   \n",
       "3          ABW  North America    Aruba  25-03-2020         17.0        5.0   \n",
       "4          ABW  North America    Aruba  26-03-2020         19.0        2.0   \n",
       "...        ...            ...      ...         ...          ...        ...   \n",
       "38044      NaN            NaN      NaN         NaN          NaN        NaN   \n",
       "38045      NaN            NaN      NaN         NaN          NaN        NaN   \n",
       "38046      NaN            NaN      NaN         NaN          NaN        NaN   \n",
       "38047      NaN            NaN      NaN         NaN          NaN        NaN   \n",
       "38048      NaN            NaN      NaN         NaN          NaN        NaN   \n",
       "\n",
       "       new_cases_smoothed  total_deaths  new_deaths  new_deaths_smoothed  ...  \\\n",
       "0                     NaN           0.0         0.0                  NaN  ...   \n",
       "1                   0.286           0.0         0.0                0.000  ...   \n",
       "2                   0.286           0.0         0.0                0.000  ...   \n",
       "3                   0.286           0.0         0.0                0.000  ...   \n",
       "4                   0.286           0.0         0.0                0.000  ...   \n",
       "...                   ...           ...         ...                  ...  ...   \n",
       "38044               0.000           NaN         NaN                0.286  ...   \n",
       "38045               0.000           NaN         NaN                0.000  ...   \n",
       "38046               0.000           NaN         NaN                0.000  ...   \n",
       "38047               0.000           NaN         NaN                0.000  ...   \n",
       "38048              -1.286           NaN         NaN                0.143  ...   \n",
       "\n",
       "       aged_70_older  gdp_per_capita  extreme_poverty  cardiovasc_death_rate  \\\n",
       "0              7.452       35973.781              NaN                    NaN   \n",
       "1              7.452       35973.781              NaN                    NaN   \n",
       "2              7.452       35973.781              NaN                    NaN   \n",
       "3              7.452       35973.781              NaN                    NaN   \n",
       "4              7.452       35973.781              NaN                    NaN   \n",
       "...              ...             ...              ...                    ...   \n",
       "38044            NaN             NaN              NaN                    NaN   \n",
       "38045            NaN             NaN              NaN                    NaN   \n",
       "38046            NaN             NaN              NaN                    NaN   \n",
       "38047            NaN             NaN              NaN                    NaN   \n",
       "38048            NaN             NaN              NaN                    NaN   \n",
       "\n",
       "       diabetes_prevalence  female_smokers  male_smokers  \\\n",
       "0                    11.62             NaN           NaN   \n",
       "1                    11.62             NaN           NaN   \n",
       "2                    11.62             NaN           NaN   \n",
       "3                    11.62             NaN           NaN   \n",
       "4                    11.62             NaN           NaN   \n",
       "...                    ...             ...           ...   \n",
       "38044                  NaN             NaN           NaN   \n",
       "38045                  NaN             NaN           NaN   \n",
       "38046                  NaN             NaN           NaN   \n",
       "38047                  NaN             NaN           NaN   \n",
       "38048                  NaN             NaN           NaN   \n",
       "\n",
       "       handwashing_facilities  hospital_beds_per_thousand  life_expectancy  \n",
       "0                         NaN                         NaN            76.29  \n",
       "1                         NaN                         NaN            76.29  \n",
       "2                         NaN                         NaN            76.29  \n",
       "3                         NaN                         NaN            76.29  \n",
       "4                         NaN                         NaN            76.29  \n",
       "...                       ...                         ...              ...  \n",
       "38044                     NaN                         NaN              NaN  \n",
       "38045                     NaN                         NaN              NaN  \n",
       "38046                     NaN                         NaN              NaN  \n",
       "38047                     NaN                         NaN              NaN  \n",
       "38048                     NaN                         NaN              NaN  \n",
       "\n",
       "[38049 rows x 40 columns]"
      ]
     },
     "execution_count": 3,
     "metadata": {},
     "output_type": "execute_result"
    }
   ],
   "source": [
    "df"
   ]
  },
  {
   "cell_type": "markdown",
   "metadata": {},
   "source": [
    "# Filtering the data that have \"INDIA\" in \"location\""
   ]
  },
  {
   "cell_type": "code",
   "execution_count": 4,
   "metadata": {},
   "outputs": [],
   "source": [
    "df1=df[df[\"location\"]==\"India\"]"
   ]
  },
  {
   "cell_type": "code",
   "execution_count": 5,
   "metadata": {},
   "outputs": [
    {
     "data": {
      "text/html": [
       "<div>\n",
       "<style scoped>\n",
       "    .dataframe tbody tr th:only-of-type {\n",
       "        vertical-align: middle;\n",
       "    }\n",
       "\n",
       "    .dataframe tbody tr th {\n",
       "        vertical-align: top;\n",
       "    }\n",
       "\n",
       "    .dataframe thead th {\n",
       "        text-align: right;\n",
       "    }\n",
       "</style>\n",
       "<table border=\"1\" class=\"dataframe\">\n",
       "  <thead>\n",
       "    <tr style=\"text-align: right;\">\n",
       "      <th></th>\n",
       "      <th>iso_code</th>\n",
       "      <th>continent</th>\n",
       "      <th>location</th>\n",
       "      <th>date</th>\n",
       "      <th>total_cases</th>\n",
       "      <th>new_cases</th>\n",
       "      <th>new_cases_smoothed</th>\n",
       "      <th>total_deaths</th>\n",
       "      <th>new_deaths</th>\n",
       "      <th>new_deaths_smoothed</th>\n",
       "      <th>...</th>\n",
       "      <th>aged_70_older</th>\n",
       "      <th>gdp_per_capita</th>\n",
       "      <th>extreme_poverty</th>\n",
       "      <th>cardiovasc_death_rate</th>\n",
       "      <th>diabetes_prevalence</th>\n",
       "      <th>female_smokers</th>\n",
       "      <th>male_smokers</th>\n",
       "      <th>handwashing_facilities</th>\n",
       "      <th>hospital_beds_per_thousand</th>\n",
       "      <th>life_expectancy</th>\n",
       "    </tr>\n",
       "  </thead>\n",
       "  <tbody>\n",
       "    <tr>\n",
       "      <th>15577</th>\n",
       "      <td>IND</td>\n",
       "      <td>Asia</td>\n",
       "      <td>India</td>\n",
       "      <td>31-12-2019</td>\n",
       "      <td>0.0</td>\n",
       "      <td>0.0</td>\n",
       "      <td>54.714</td>\n",
       "      <td>0.0</td>\n",
       "      <td>0.0</td>\n",
       "      <td>1.857</td>\n",
       "      <td>...</td>\n",
       "      <td>3.414</td>\n",
       "      <td>6426.674</td>\n",
       "      <td>21.2</td>\n",
       "      <td>282.28</td>\n",
       "      <td>10.39</td>\n",
       "      <td>1.9</td>\n",
       "      <td>20.6</td>\n",
       "      <td>59.55</td>\n",
       "      <td>0.53</td>\n",
       "      <td>69.66</td>\n",
       "    </tr>\n",
       "    <tr>\n",
       "      <th>15578</th>\n",
       "      <td>IND</td>\n",
       "      <td>Asia</td>\n",
       "      <td>India</td>\n",
       "      <td>01-01-2020</td>\n",
       "      <td>0.0</td>\n",
       "      <td>0.0</td>\n",
       "      <td>47.571</td>\n",
       "      <td>0.0</td>\n",
       "      <td>0.0</td>\n",
       "      <td>1.571</td>\n",
       "      <td>...</td>\n",
       "      <td>3.414</td>\n",
       "      <td>6426.674</td>\n",
       "      <td>21.2</td>\n",
       "      <td>282.28</td>\n",
       "      <td>10.39</td>\n",
       "      <td>1.9</td>\n",
       "      <td>20.6</td>\n",
       "      <td>59.55</td>\n",
       "      <td>0.53</td>\n",
       "      <td>69.66</td>\n",
       "    </tr>\n",
       "    <tr>\n",
       "      <th>15579</th>\n",
       "      <td>IND</td>\n",
       "      <td>Asia</td>\n",
       "      <td>India</td>\n",
       "      <td>02-01-2020</td>\n",
       "      <td>0.0</td>\n",
       "      <td>0.0</td>\n",
       "      <td>46.857</td>\n",
       "      <td>0.0</td>\n",
       "      <td>0.0</td>\n",
       "      <td>1.429</td>\n",
       "      <td>...</td>\n",
       "      <td>3.414</td>\n",
       "      <td>6426.674</td>\n",
       "      <td>21.2</td>\n",
       "      <td>282.28</td>\n",
       "      <td>10.39</td>\n",
       "      <td>1.9</td>\n",
       "      <td>20.6</td>\n",
       "      <td>59.55</td>\n",
       "      <td>0.53</td>\n",
       "      <td>69.66</td>\n",
       "    </tr>\n",
       "    <tr>\n",
       "      <th>15580</th>\n",
       "      <td>IND</td>\n",
       "      <td>Asia</td>\n",
       "      <td>India</td>\n",
       "      <td>03-01-2020</td>\n",
       "      <td>0.0</td>\n",
       "      <td>0.0</td>\n",
       "      <td>45.571</td>\n",
       "      <td>0.0</td>\n",
       "      <td>0.0</td>\n",
       "      <td>1.714</td>\n",
       "      <td>...</td>\n",
       "      <td>3.414</td>\n",
       "      <td>6426.674</td>\n",
       "      <td>21.2</td>\n",
       "      <td>282.28</td>\n",
       "      <td>10.39</td>\n",
       "      <td>1.9</td>\n",
       "      <td>20.6</td>\n",
       "      <td>59.55</td>\n",
       "      <td>0.53</td>\n",
       "      <td>69.66</td>\n",
       "    </tr>\n",
       "    <tr>\n",
       "      <th>15581</th>\n",
       "      <td>IND</td>\n",
       "      <td>Asia</td>\n",
       "      <td>India</td>\n",
       "      <td>04-01-2020</td>\n",
       "      <td>0.0</td>\n",
       "      <td>0.0</td>\n",
       "      <td>49.143</td>\n",
       "      <td>0.0</td>\n",
       "      <td>0.0</td>\n",
       "      <td>1.143</td>\n",
       "      <td>...</td>\n",
       "      <td>3.414</td>\n",
       "      <td>6426.674</td>\n",
       "      <td>21.2</td>\n",
       "      <td>282.28</td>\n",
       "      <td>10.39</td>\n",
       "      <td>1.9</td>\n",
       "      <td>20.6</td>\n",
       "      <td>59.55</td>\n",
       "      <td>0.53</td>\n",
       "      <td>69.66</td>\n",
       "    </tr>\n",
       "  </tbody>\n",
       "</table>\n",
       "<p>5 rows × 40 columns</p>\n",
       "</div>"
      ],
      "text/plain": [
       "      iso_code continent location        date  total_cases  new_cases  \\\n",
       "15577      IND      Asia    India  31-12-2019          0.0        0.0   \n",
       "15578      IND      Asia    India  01-01-2020          0.0        0.0   \n",
       "15579      IND      Asia    India  02-01-2020          0.0        0.0   \n",
       "15580      IND      Asia    India  03-01-2020          0.0        0.0   \n",
       "15581      IND      Asia    India  04-01-2020          0.0        0.0   \n",
       "\n",
       "       new_cases_smoothed  total_deaths  new_deaths  new_deaths_smoothed  ...  \\\n",
       "15577              54.714           0.0         0.0                1.857  ...   \n",
       "15578              47.571           0.0         0.0                1.571  ...   \n",
       "15579              46.857           0.0         0.0                1.429  ...   \n",
       "15580              45.571           0.0         0.0                1.714  ...   \n",
       "15581              49.143           0.0         0.0                1.143  ...   \n",
       "\n",
       "       aged_70_older  gdp_per_capita  extreme_poverty  cardiovasc_death_rate  \\\n",
       "15577          3.414        6426.674             21.2                 282.28   \n",
       "15578          3.414        6426.674             21.2                 282.28   \n",
       "15579          3.414        6426.674             21.2                 282.28   \n",
       "15580          3.414        6426.674             21.2                 282.28   \n",
       "15581          3.414        6426.674             21.2                 282.28   \n",
       "\n",
       "       diabetes_prevalence  female_smokers  male_smokers  \\\n",
       "15577                10.39             1.9          20.6   \n",
       "15578                10.39             1.9          20.6   \n",
       "15579                10.39             1.9          20.6   \n",
       "15580                10.39             1.9          20.6   \n",
       "15581                10.39             1.9          20.6   \n",
       "\n",
       "       handwashing_facilities  hospital_beds_per_thousand  life_expectancy  \n",
       "15577                   59.55                        0.53            69.66  \n",
       "15578                   59.55                        0.53            69.66  \n",
       "15579                   59.55                        0.53            69.66  \n",
       "15580                   59.55                        0.53            69.66  \n",
       "15581                   59.55                        0.53            69.66  \n",
       "\n",
       "[5 rows x 40 columns]"
      ]
     },
     "execution_count": 5,
     "metadata": {},
     "output_type": "execute_result"
    }
   ],
   "source": [
    "df1.head()"
   ]
  },
  {
   "cell_type": "markdown",
   "metadata": {},
   "source": [
    "## Data Quality Check"
   ]
  },
  {
   "cell_type": "code",
   "execution_count": 6,
   "metadata": {},
   "outputs": [
    {
     "name": "stdout",
     "output_type": "stream",
     "text": [
      "<class 'pandas.core.frame.DataFrame'>\n",
      "Int64Index: 225 entries, 15577 to 15801\n",
      "Data columns (total 40 columns):\n",
      " #   Column                           Non-Null Count  Dtype  \n",
      "---  ------                           --------------  -----  \n",
      " 0   iso_code                         225 non-null    object \n",
      " 1   continent                        225 non-null    object \n",
      " 2   location                         225 non-null    object \n",
      " 3   date                             225 non-null    object \n",
      " 4   total_cases                      225 non-null    float64\n",
      " 5   new_cases                        225 non-null    float64\n",
      " 6   new_cases_smoothed               225 non-null    float64\n",
      " 7   total_deaths                     225 non-null    float64\n",
      " 8   new_deaths                       225 non-null    float64\n",
      " 9   new_deaths_smoothed              225 non-null    float64\n",
      " 10  total_cases_per_million          225 non-null    float64\n",
      " 11  new_cases_per_million            225 non-null    float64\n",
      " 12  new_cases_smoothed_per_million   225 non-null    float64\n",
      " 13  total_deaths_per_million         225 non-null    float64\n",
      " 14  new_deaths_per_million           225 non-null    float64\n",
      " 15  new_deaths_smoothed_per_million  225 non-null    float64\n",
      " 16  new_tests                        225 non-null    float64\n",
      " 17  total_tests                      225 non-null    float64\n",
      " 18  total_tests_per_thousand         225 non-null    float64\n",
      " 19  new_tests_per_thousand           225 non-null    float64\n",
      " 20  new_tests_smoothed               225 non-null    float64\n",
      " 21  new_tests_smoothed_per_thousand  225 non-null    float64\n",
      " 22  tests_per_case                   225 non-null    float64\n",
      " 23  positive_rate                    225 non-null    float64\n",
      " 24  tests_units                      225 non-null    object \n",
      " 25  stringency_index                 225 non-null    float64\n",
      " 26  population                       225 non-null    float64\n",
      " 27  population_density               225 non-null    float64\n",
      " 28  median_age                       225 non-null    float64\n",
      " 29  aged_65_older                    225 non-null    float64\n",
      " 30  aged_70_older                    225 non-null    float64\n",
      " 31  gdp_per_capita                   225 non-null    float64\n",
      " 32  extreme_poverty                  225 non-null    float64\n",
      " 33  cardiovasc_death_rate            225 non-null    float64\n",
      " 34  diabetes_prevalence              225 non-null    float64\n",
      " 35  female_smokers                   225 non-null    float64\n",
      " 36  male_smokers                     225 non-null    float64\n",
      " 37  handwashing_facilities           225 non-null    float64\n",
      " 38  hospital_beds_per_thousand       225 non-null    float64\n",
      " 39  life_expectancy                  225 non-null    float64\n",
      "dtypes: float64(35), object(5)\n",
      "memory usage: 72.1+ KB\n"
     ]
    }
   ],
   "source": [
    "df1.info()"
   ]
  },
  {
   "cell_type": "code",
   "execution_count": 7,
   "metadata": {},
   "outputs": [
    {
     "data": {
      "text/plain": [
       "iso_code                           0\n",
       "continent                          0\n",
       "location                           0\n",
       "date                               0\n",
       "total_cases                        0\n",
       "new_cases                          0\n",
       "new_cases_smoothed                 0\n",
       "total_deaths                       0\n",
       "new_deaths                         0\n",
       "new_deaths_smoothed                0\n",
       "total_cases_per_million            0\n",
       "new_cases_per_million              0\n",
       "new_cases_smoothed_per_million     0\n",
       "total_deaths_per_million           0\n",
       "new_deaths_per_million             0\n",
       "new_deaths_smoothed_per_million    0\n",
       "new_tests                          0\n",
       "total_tests                        0\n",
       "total_tests_per_thousand           0\n",
       "new_tests_per_thousand             0\n",
       "new_tests_smoothed                 0\n",
       "new_tests_smoothed_per_thousand    0\n",
       "tests_per_case                     0\n",
       "positive_rate                      0\n",
       "tests_units                        0\n",
       "stringency_index                   0\n",
       "population                         0\n",
       "population_density                 0\n",
       "median_age                         0\n",
       "aged_65_older                      0\n",
       "aged_70_older                      0\n",
       "gdp_per_capita                     0\n",
       "extreme_poverty                    0\n",
       "cardiovasc_death_rate              0\n",
       "diabetes_prevalence                0\n",
       "female_smokers                     0\n",
       "male_smokers                       0\n",
       "handwashing_facilities             0\n",
       "hospital_beds_per_thousand         0\n",
       "life_expectancy                    0\n",
       "dtype: int64"
      ]
     },
     "execution_count": 7,
     "metadata": {},
     "output_type": "execute_result"
    }
   ],
   "source": [
    "df1.isna().sum()"
   ]
  },
  {
   "cell_type": "code",
   "execution_count": 8,
   "metadata": {},
   "outputs": [
    {
     "data": {
      "text/html": [
       "<div>\n",
       "<style scoped>\n",
       "    .dataframe tbody tr th:only-of-type {\n",
       "        vertical-align: middle;\n",
       "    }\n",
       "\n",
       "    .dataframe tbody tr th {\n",
       "        vertical-align: top;\n",
       "    }\n",
       "\n",
       "    .dataframe thead th {\n",
       "        text-align: right;\n",
       "    }\n",
       "</style>\n",
       "<table border=\"1\" class=\"dataframe\">\n",
       "  <thead>\n",
       "    <tr style=\"text-align: right;\">\n",
       "      <th></th>\n",
       "      <th>total_cases</th>\n",
       "      <th>new_cases</th>\n",
       "      <th>new_cases_smoothed</th>\n",
       "      <th>total_deaths</th>\n",
       "      <th>new_deaths</th>\n",
       "      <th>new_deaths_smoothed</th>\n",
       "      <th>total_cases_per_million</th>\n",
       "      <th>new_cases_per_million</th>\n",
       "      <th>new_cases_smoothed_per_million</th>\n",
       "      <th>total_deaths_per_million</th>\n",
       "      <th>...</th>\n",
       "      <th>aged_70_older</th>\n",
       "      <th>gdp_per_capita</th>\n",
       "      <th>extreme_poverty</th>\n",
       "      <th>cardiovasc_death_rate</th>\n",
       "      <th>diabetes_prevalence</th>\n",
       "      <th>female_smokers</th>\n",
       "      <th>male_smokers</th>\n",
       "      <th>handwashing_facilities</th>\n",
       "      <th>hospital_beds_per_thousand</th>\n",
       "      <th>life_expectancy</th>\n",
       "    </tr>\n",
       "  </thead>\n",
       "  <tbody>\n",
       "    <tr>\n",
       "      <th>count</th>\n",
       "      <td>2.250000e+02</td>\n",
       "      <td>225.000000</td>\n",
       "      <td>225.000000</td>\n",
       "      <td>225.000000</td>\n",
       "      <td>225.000000</td>\n",
       "      <td>225.000000</td>\n",
       "      <td>225.000000</td>\n",
       "      <td>225.000000</td>\n",
       "      <td>225.000000</td>\n",
       "      <td>225.000000</td>\n",
       "      <td>...</td>\n",
       "      <td>2.250000e+02</td>\n",
       "      <td>2.250000e+02</td>\n",
       "      <td>2.250000e+02</td>\n",
       "      <td>2.250000e+02</td>\n",
       "      <td>2.250000e+02</td>\n",
       "      <td>2.250000e+02</td>\n",
       "      <td>2.250000e+02</td>\n",
       "      <td>2.250000e+02</td>\n",
       "      <td>2.250000e+02</td>\n",
       "      <td>2.250000e+02</td>\n",
       "    </tr>\n",
       "    <tr>\n",
       "      <th>mean</th>\n",
       "      <td>3.098122e+05</td>\n",
       "      <td>10353.946667</td>\n",
       "      <td>55.460884</td>\n",
       "      <td>7603.977778</td>\n",
       "      <td>204.848889</td>\n",
       "      <td>2.199849</td>\n",
       "      <td>224.500849</td>\n",
       "      <td>7.502818</td>\n",
       "      <td>6.634640</td>\n",
       "      <td>5.510116</td>\n",
       "      <td>...</td>\n",
       "      <td>3.414000e+00</td>\n",
       "      <td>6.426674e+03</td>\n",
       "      <td>2.120000e+01</td>\n",
       "      <td>2.822800e+02</td>\n",
       "      <td>1.039000e+01</td>\n",
       "      <td>1.900000e+00</td>\n",
       "      <td>2.060000e+01</td>\n",
       "      <td>5.955000e+01</td>\n",
       "      <td>5.300000e-01</td>\n",
       "      <td>6.966000e+01</td>\n",
       "    </tr>\n",
       "    <tr>\n",
       "      <th>std</th>\n",
       "      <td>5.471773e+05</td>\n",
       "      <td>16757.036761</td>\n",
       "      <td>50.529053</td>\n",
       "      <td>12115.987009</td>\n",
       "      <td>296.861837</td>\n",
       "      <td>3.162103</td>\n",
       "      <td>396.504043</td>\n",
       "      <td>12.142729</td>\n",
       "      <td>8.086994</td>\n",
       "      <td>8.779670</td>\n",
       "      <td>...</td>\n",
       "      <td>9.791746e-15</td>\n",
       "      <td>3.190329e-11</td>\n",
       "      <td>8.901588e-14</td>\n",
       "      <td>7.975822e-13</td>\n",
       "      <td>2.314413e-14</td>\n",
       "      <td>6.676191e-15</td>\n",
       "      <td>1.424254e-14</td>\n",
       "      <td>1.993956e-13</td>\n",
       "      <td>8.901588e-16</td>\n",
       "      <td>1.139403e-13</td>\n",
       "    </tr>\n",
       "    <tr>\n",
       "      <th>min</th>\n",
       "      <td>0.000000e+00</td>\n",
       "      <td>0.000000</td>\n",
       "      <td>0.857000</td>\n",
       "      <td>0.000000</td>\n",
       "      <td>0.000000</td>\n",
       "      <td>0.000000</td>\n",
       "      <td>0.000000</td>\n",
       "      <td>0.000000</td>\n",
       "      <td>0.075000</td>\n",
       "      <td>0.000000</td>\n",
       "      <td>...</td>\n",
       "      <td>3.414000e+00</td>\n",
       "      <td>6.426674e+03</td>\n",
       "      <td>2.120000e+01</td>\n",
       "      <td>2.822800e+02</td>\n",
       "      <td>1.039000e+01</td>\n",
       "      <td>1.900000e+00</td>\n",
       "      <td>2.060000e+01</td>\n",
       "      <td>5.955000e+01</td>\n",
       "      <td>5.300000e-01</td>\n",
       "      <td>6.966000e+01</td>\n",
       "    </tr>\n",
       "    <tr>\n",
       "      <th>25%</th>\n",
       "      <td>3.000000e+00</td>\n",
       "      <td>0.000000</td>\n",
       "      <td>11.143000</td>\n",
       "      <td>0.000000</td>\n",
       "      <td>0.000000</td>\n",
       "      <td>0.429000</td>\n",
       "      <td>0.002000</td>\n",
       "      <td>0.000000</td>\n",
       "      <td>1.153000</td>\n",
       "      <td>0.000000</td>\n",
       "      <td>...</td>\n",
       "      <td>3.414000e+00</td>\n",
       "      <td>6.426674e+03</td>\n",
       "      <td>2.120000e+01</td>\n",
       "      <td>2.822800e+02</td>\n",
       "      <td>1.039000e+01</td>\n",
       "      <td>1.900000e+00</td>\n",
       "      <td>2.060000e+01</td>\n",
       "      <td>5.955000e+01</td>\n",
       "      <td>5.300000e-01</td>\n",
       "      <td>6.966000e+01</td>\n",
       "    </tr>\n",
       "    <tr>\n",
       "      <th>50%</th>\n",
       "      <td>1.998400e+04</td>\n",
       "      <td>1396.000000</td>\n",
       "      <td>46.143000</td>\n",
       "      <td>640.000000</td>\n",
       "      <td>43.000000</td>\n",
       "      <td>1.286000</td>\n",
       "      <td>14.481000</td>\n",
       "      <td>1.012000</td>\n",
       "      <td>4.392000</td>\n",
       "      <td>0.464000</td>\n",
       "      <td>...</td>\n",
       "      <td>3.414000e+00</td>\n",
       "      <td>6.426674e+03</td>\n",
       "      <td>2.120000e+01</td>\n",
       "      <td>2.822800e+02</td>\n",
       "      <td>1.039000e+01</td>\n",
       "      <td>1.900000e+00</td>\n",
       "      <td>2.060000e+01</td>\n",
       "      <td>5.955000e+01</td>\n",
       "      <td>5.300000e-01</td>\n",
       "      <td>6.966000e+01</td>\n",
       "    </tr>\n",
       "    <tr>\n",
       "      <th>75%</th>\n",
       "      <td>3.540650e+05</td>\n",
       "      <td>11929.000000</td>\n",
       "      <td>83.714000</td>\n",
       "      <td>11903.000000</td>\n",
       "      <td>357.000000</td>\n",
       "      <td>2.143000</td>\n",
       "      <td>256.568000</td>\n",
       "      <td>8.644000</td>\n",
       "      <td>9.071000</td>\n",
       "      <td>8.625000</td>\n",
       "      <td>...</td>\n",
       "      <td>3.414000e+00</td>\n",
       "      <td>6.426674e+03</td>\n",
       "      <td>2.120000e+01</td>\n",
       "      <td>2.822800e+02</td>\n",
       "      <td>1.039000e+01</td>\n",
       "      <td>1.900000e+00</td>\n",
       "      <td>2.060000e+01</td>\n",
       "      <td>5.955000e+01</td>\n",
       "      <td>5.300000e-01</td>\n",
       "      <td>6.966000e+01</td>\n",
       "    </tr>\n",
       "    <tr>\n",
       "      <th>max</th>\n",
       "      <td>2.329638e+06</td>\n",
       "      <td>64399.000000</td>\n",
       "      <td>191.429000</td>\n",
       "      <td>46091.000000</td>\n",
       "      <td>2003.000000</td>\n",
       "      <td>13.429000</td>\n",
       "      <td>1688.138000</td>\n",
       "      <td>46.666000</td>\n",
       "      <td>44.000000</td>\n",
       "      <td>33.399000</td>\n",
       "      <td>...</td>\n",
       "      <td>3.414000e+00</td>\n",
       "      <td>6.426674e+03</td>\n",
       "      <td>2.120000e+01</td>\n",
       "      <td>2.822800e+02</td>\n",
       "      <td>1.039000e+01</td>\n",
       "      <td>1.900000e+00</td>\n",
       "      <td>2.060000e+01</td>\n",
       "      <td>5.955000e+01</td>\n",
       "      <td>5.300000e-01</td>\n",
       "      <td>6.966000e+01</td>\n",
       "    </tr>\n",
       "  </tbody>\n",
       "</table>\n",
       "<p>8 rows × 35 columns</p>\n",
       "</div>"
      ],
      "text/plain": [
       "        total_cases     new_cases  new_cases_smoothed  total_deaths  \\\n",
       "count  2.250000e+02    225.000000          225.000000    225.000000   \n",
       "mean   3.098122e+05  10353.946667           55.460884   7603.977778   \n",
       "std    5.471773e+05  16757.036761           50.529053  12115.987009   \n",
       "min    0.000000e+00      0.000000            0.857000      0.000000   \n",
       "25%    3.000000e+00      0.000000           11.143000      0.000000   \n",
       "50%    1.998400e+04   1396.000000           46.143000    640.000000   \n",
       "75%    3.540650e+05  11929.000000           83.714000  11903.000000   \n",
       "max    2.329638e+06  64399.000000          191.429000  46091.000000   \n",
       "\n",
       "        new_deaths  new_deaths_smoothed  total_cases_per_million  \\\n",
       "count   225.000000           225.000000               225.000000   \n",
       "mean    204.848889             2.199849               224.500849   \n",
       "std     296.861837             3.162103               396.504043   \n",
       "min       0.000000             0.000000                 0.000000   \n",
       "25%       0.000000             0.429000                 0.002000   \n",
       "50%      43.000000             1.286000                14.481000   \n",
       "75%     357.000000             2.143000               256.568000   \n",
       "max    2003.000000            13.429000              1688.138000   \n",
       "\n",
       "       new_cases_per_million  new_cases_smoothed_per_million  \\\n",
       "count             225.000000                      225.000000   \n",
       "mean                7.502818                        6.634640   \n",
       "std                12.142729                        8.086994   \n",
       "min                 0.000000                        0.075000   \n",
       "25%                 0.000000                        1.153000   \n",
       "50%                 1.012000                        4.392000   \n",
       "75%                 8.644000                        9.071000   \n",
       "max                46.666000                       44.000000   \n",
       "\n",
       "       total_deaths_per_million  ...  aged_70_older  gdp_per_capita  \\\n",
       "count                225.000000  ...   2.250000e+02    2.250000e+02   \n",
       "mean                   5.510116  ...   3.414000e+00    6.426674e+03   \n",
       "std                    8.779670  ...   9.791746e-15    3.190329e-11   \n",
       "min                    0.000000  ...   3.414000e+00    6.426674e+03   \n",
       "25%                    0.000000  ...   3.414000e+00    6.426674e+03   \n",
       "50%                    0.464000  ...   3.414000e+00    6.426674e+03   \n",
       "75%                    8.625000  ...   3.414000e+00    6.426674e+03   \n",
       "max                   33.399000  ...   3.414000e+00    6.426674e+03   \n",
       "\n",
       "       extreme_poverty  cardiovasc_death_rate  diabetes_prevalence  \\\n",
       "count     2.250000e+02           2.250000e+02         2.250000e+02   \n",
       "mean      2.120000e+01           2.822800e+02         1.039000e+01   \n",
       "std       8.901588e-14           7.975822e-13         2.314413e-14   \n",
       "min       2.120000e+01           2.822800e+02         1.039000e+01   \n",
       "25%       2.120000e+01           2.822800e+02         1.039000e+01   \n",
       "50%       2.120000e+01           2.822800e+02         1.039000e+01   \n",
       "75%       2.120000e+01           2.822800e+02         1.039000e+01   \n",
       "max       2.120000e+01           2.822800e+02         1.039000e+01   \n",
       "\n",
       "       female_smokers  male_smokers  handwashing_facilities  \\\n",
       "count    2.250000e+02  2.250000e+02            2.250000e+02   \n",
       "mean     1.900000e+00  2.060000e+01            5.955000e+01   \n",
       "std      6.676191e-15  1.424254e-14            1.993956e-13   \n",
       "min      1.900000e+00  2.060000e+01            5.955000e+01   \n",
       "25%      1.900000e+00  2.060000e+01            5.955000e+01   \n",
       "50%      1.900000e+00  2.060000e+01            5.955000e+01   \n",
       "75%      1.900000e+00  2.060000e+01            5.955000e+01   \n",
       "max      1.900000e+00  2.060000e+01            5.955000e+01   \n",
       "\n",
       "       hospital_beds_per_thousand  life_expectancy  \n",
       "count                2.250000e+02     2.250000e+02  \n",
       "mean                 5.300000e-01     6.966000e+01  \n",
       "std                  8.901588e-16     1.139403e-13  \n",
       "min                  5.300000e-01     6.966000e+01  \n",
       "25%                  5.300000e-01     6.966000e+01  \n",
       "50%                  5.300000e-01     6.966000e+01  \n",
       "75%                  5.300000e-01     6.966000e+01  \n",
       "max                  5.300000e-01     6.966000e+01  \n",
       "\n",
       "[8 rows x 35 columns]"
      ]
     },
     "execution_count": 8,
     "metadata": {},
     "output_type": "execute_result"
    }
   ],
   "source": [
    "df1.describe()"
   ]
  },
  {
   "cell_type": "markdown",
   "metadata": {},
   "source": [
    "# Exploratoey Data Analysis"
   ]
  },
  {
   "cell_type": "markdown",
   "metadata": {},
   "source": [
    "# Univariate Analysis"
   ]
  },
  {
   "cell_type": "code",
   "execution_count": 9,
   "metadata": {},
   "outputs": [],
   "source": [
    "import matplotlib.pyplot as plt\n",
    "import seaborn as sns\n",
    "from matplotlib.pyplot import rcParams"
   ]
  },
  {
   "cell_type": "markdown",
   "metadata": {},
   "source": [
    "## A. Histogram of 10 feature columns"
   ]
  },
  {
   "cell_type": "code",
   "execution_count": 10,
   "metadata": {},
   "outputs": [
    {
     "data": {
      "text/plain": [
       "array([[<matplotlib.axes._subplots.AxesSubplot object at 0x0000021E1A564FC8>]],\n",
       "      dtype=object)"
      ]
     },
     "execution_count": 10,
     "metadata": {},
     "output_type": "execute_result"
    },
    {
     "data": {
      "image/png": "[encoded data removed]",
      "text/plain": [
       "<Figure size 720x576 with 1 Axes>"
      ]
     },
     "metadata": {
      "needs_background": "light"
     },
     "output_type": "display_data"
    }
   ],
   "source": [
    "rcParams['figure.figsize']=10,8\n",
    "df1.hist(\"new_cases\",color=\"g\")"
   ]
  },
  {
   "cell_type": "code",
   "execution_count": 11,
   "metadata": {},
   "outputs": [
    {
     "data": {
      "text/plain": [
       "array([[<matplotlib.axes._subplots.AxesSubplot object at 0x0000021E1A62CBC8>]],\n",
       "      dtype=object)"
      ]
     },
     "execution_count": 11,
     "metadata": {},
     "output_type": "execute_result"
    },
    {
     "data": {
      "image/png": "[encoded data removed]",
      "text/plain": [
       "<Figure size 720x576 with 1 Axes>"
      ]
     },
     "metadata": {
      "needs_background": "light"
     },
     "output_type": "display_data"
    }
   ],
   "source": [
    "df1.hist(\"new_deaths\",color=\"r\")"
   ]
  },
  {
   "cell_type": "code",
   "execution_count": 12,
   "metadata": {},
   "outputs": [
    {
     "data": {
      "text/plain": [
       "array([[<matplotlib.axes._subplots.AxesSubplot object at 0x0000021E1A6DCFC8>]],\n",
       "      dtype=object)"
      ]
     },
     "execution_count": 12,
     "metadata": {},
     "output_type": "execute_result"
    },
    {
     "data": {
      "image/png": "[encoded data removed]",
      "text/plain": [
       "<Figure size 720x576 with 1 Axes>"
      ]
     },
     "metadata": {
      "needs_background": "light"
     },
     "output_type": "display_data"
    }
   ],
   "source": [
    "df1.hist(\"total_cases_per_million\",color=\"b\")"
   ]
  },
  {
   "cell_type": "code",
   "execution_count": 13,
   "metadata": {},
   "outputs": [
    {
     "data": {
      "text/plain": [
       "array([[<matplotlib.axes._subplots.AxesSubplot object at 0x0000021E1A741088>]],\n",
       "      dtype=object)"
      ]
     },
     "execution_count": 13,
     "metadata": {},
     "output_type": "execute_result"
    },
    {
     "data": {
      "image/png": "[encoded data removed]",
      "text/plain": [
       "<Figure size 720x576 with 1 Axes>"
      ]
     },
     "metadata": {
      "needs_background": "light"
     },
     "output_type": "display_data"
    }
   ],
   "source": [
    "df1.hist(\"total_deaths_per_million\",color=\"g\")"
   ]
  },
  {
   "cell_type": "code",
   "execution_count": 14,
   "metadata": {},
   "outputs": [
    {
     "data": {
      "text/plain": [
       "array([[<matplotlib.axes._subplots.AxesSubplot object at 0x0000021E1ADE8888>]],\n",
       "      dtype=object)"
      ]
     },
     "execution_count": 14,
     "metadata": {},
     "output_type": "execute_result"
    },
    {
     "data": {
      "image/png": "[encoded data removed]",
      "text/plain": [
       "<Figure size 720x576 with 1 Axes>"
      ]
     },
     "metadata": {
      "needs_background": "light"
     },
     "output_type": "display_data"
    }
   ],
   "source": [
    "df1.hist(\"new_tests\",color=\"r\")"
   ]
  },
  {
   "cell_type": "code",
   "execution_count": 15,
   "metadata": {},
   "outputs": [
    {
     "data": {
      "text/plain": [
       "array([[<matplotlib.axes._subplots.AxesSubplot object at 0x0000021E1AA293C8>]],\n",
       "      dtype=object)"
      ]
     },
     "execution_count": 15,
     "metadata": {},
     "output_type": "execute_result"
    },
    {
     "data": {
      "image/png": "[encoded data removed]",
      "text/plain": [
       "<Figure size 720x576 with 1 Axes>"
      ]
     },
     "metadata": {
      "needs_background": "light"
     },
     "output_type": "display_data"
    }
   ],
   "source": [
    "df1.hist(\"positive_rate\",color=\"b\")"
   ]
  },
  {
   "cell_type": "code",
   "execution_count": 16,
   "metadata": {},
   "outputs": [
    {
     "data": {
      "text/plain": [
       "array([[<matplotlib.axes._subplots.AxesSubplot object at 0x0000021E1AF957C8>]],\n",
       "      dtype=object)"
      ]
     },
     "execution_count": 16,
     "metadata": {},
     "output_type": "execute_result"
    },
    {
     "data": {
      "image/png": "[encoded data removed]",
      "text/plain": [
       "<Figure size 720x576 with 1 Axes>"
      ]
     },
     "metadata": {
      "needs_background": "light"
     },
     "output_type": "display_data"
    }
   ],
   "source": [
    "df1.hist(\"total_cases\",color=\"g\")"
   ]
  },
  {
   "cell_type": "code",
   "execution_count": 17,
   "metadata": {},
   "outputs": [
    {
     "data": {
      "text/plain": [
       "array([[<matplotlib.axes._subplots.AxesSubplot object at 0x0000021E1AFE1CC8>]],\n",
       "      dtype=object)"
      ]
     },
     "execution_count": 17,
     "metadata": {},
     "output_type": "execute_result"
    },
    {
     "data": {
      "image/png": "[encoded data removed]",
      "text/plain": [
       "<Figure size 720x576 with 1 Axes>"
      ]
     },
     "metadata": {
      "needs_background": "light"
     },
     "output_type": "display_data"
    }
   ],
   "source": [
    "df1.hist(\"new_cases_per_million\",color=\"r\")"
   ]
  },
  {
   "cell_type": "code",
   "execution_count": 18,
   "metadata": {},
   "outputs": [
    {
     "data": {
      "text/plain": [
       "array([[<matplotlib.axes._subplots.AxesSubplot object at 0x0000021E1B0A3308>]],\n",
       "      dtype=object)"
      ]
     },
     "execution_count": 18,
     "metadata": {},
     "output_type": "execute_result"
    },
    {
     "data": {
      "image/png": "[encoded data removed]",
      "text/plain": [
       "<Figure size 720x576 with 1 Axes>"
      ]
     },
     "metadata": {
      "needs_background": "light"
     },
     "output_type": "display_data"
    }
   ],
   "source": [
    "df1.hist(\"stringency_index\",color=\"b\")"
   ]
  },
  {
   "cell_type": "code",
   "execution_count": 19,
   "metadata": {},
   "outputs": [
    {
     "data": {
      "text/plain": [
       "array([[<matplotlib.axes._subplots.AxesSubplot object at 0x0000021E1C0D98C8>]],\n",
       "      dtype=object)"
      ]
     },
     "execution_count": 19,
     "metadata": {},
     "output_type": "execute_result"
    },
    {
     "data": {
      "image/png": "[encoded data removed]",
      "text/plain": [
       "<Figure size 720x576 with 1 Axes>"
      ]
     },
     "metadata": {
      "needs_background": "light"
     },
     "output_type": "display_data"
    }
   ],
   "source": [
    "df1.hist(\"new_deaths\",color=\"g\")"
   ]
  },
  {
   "cell_type": "markdown",
   "metadata": {},
   "source": [
    "# Mean of feature columns"
   ]
  },
  {
   "cell_type": "code",
   "execution_count": 20,
   "metadata": {},
   "outputs": [
    {
     "data": {
      "text/html": [
       "<div>\n",
       "<style scoped>\n",
       "    .dataframe tbody tr th:only-of-type {\n",
       "        vertical-align: middle;\n",
       "    }\n",
       "\n",
       "    .dataframe tbody tr th {\n",
       "        vertical-align: top;\n",
       "    }\n",
       "\n",
       "    .dataframe thead th {\n",
       "        text-align: right;\n",
       "    }\n",
       "</style>\n",
       "<table border=\"1\" class=\"dataframe\">\n",
       "  <thead>\n",
       "    <tr style=\"text-align: right;\">\n",
       "      <th></th>\n",
       "      <th>0</th>\n",
       "    </tr>\n",
       "  </thead>\n",
       "  <tbody>\n",
       "    <tr>\n",
       "      <th>total_cases</th>\n",
       "      <td>3.098122e+05</td>\n",
       "    </tr>\n",
       "    <tr>\n",
       "      <th>new_cases</th>\n",
       "      <td>1.035395e+04</td>\n",
       "    </tr>\n",
       "    <tr>\n",
       "      <th>new_cases_smoothed</th>\n",
       "      <td>5.546088e+01</td>\n",
       "    </tr>\n",
       "    <tr>\n",
       "      <th>total_deaths</th>\n",
       "      <td>7.603978e+03</td>\n",
       "    </tr>\n",
       "    <tr>\n",
       "      <th>new_deaths</th>\n",
       "      <td>2.048489e+02</td>\n",
       "    </tr>\n",
       "    <tr>\n",
       "      <th>new_deaths_smoothed</th>\n",
       "      <td>2.199849e+00</td>\n",
       "    </tr>\n",
       "    <tr>\n",
       "      <th>total_cases_per_million</th>\n",
       "      <td>2.245008e+02</td>\n",
       "    </tr>\n",
       "    <tr>\n",
       "      <th>new_cases_per_million</th>\n",
       "      <td>7.502818e+00</td>\n",
       "    </tr>\n",
       "    <tr>\n",
       "      <th>new_cases_smoothed_per_million</th>\n",
       "      <td>6.634640e+00</td>\n",
       "    </tr>\n",
       "    <tr>\n",
       "      <th>total_deaths_per_million</th>\n",
       "      <td>5.510116e+00</td>\n",
       "    </tr>\n",
       "    <tr>\n",
       "      <th>new_deaths_per_million</th>\n",
       "      <td>1.484311e-01</td>\n",
       "    </tr>\n",
       "    <tr>\n",
       "      <th>new_deaths_smoothed_per_million</th>\n",
       "      <td>2.229244e-01</td>\n",
       "    </tr>\n",
       "    <tr>\n",
       "      <th>new_tests</th>\n",
       "      <td>1.163617e+05</td>\n",
       "    </tr>\n",
       "    <tr>\n",
       "      <th>total_tests</th>\n",
       "      <td>5.244796e+06</td>\n",
       "    </tr>\n",
       "    <tr>\n",
       "      <th>total_tests_per_thousand</th>\n",
       "      <td>3.009893e+00</td>\n",
       "    </tr>\n",
       "    <tr>\n",
       "      <th>new_tests_per_thousand</th>\n",
       "      <td>8.557778e-02</td>\n",
       "    </tr>\n",
       "    <tr>\n",
       "      <th>new_tests_smoothed</th>\n",
       "      <td>1.068356e+05</td>\n",
       "    </tr>\n",
       "    <tr>\n",
       "      <th>new_tests_smoothed_per_thousand</th>\n",
       "      <td>7.736444e-02</td>\n",
       "    </tr>\n",
       "    <tr>\n",
       "      <th>tests_per_case</th>\n",
       "      <td>1.279756e+01</td>\n",
       "    </tr>\n",
       "    <tr>\n",
       "      <th>positive_rate</th>\n",
       "      <td>4.743111e-02</td>\n",
       "    </tr>\n",
       "    <tr>\n",
       "      <th>stringency_index</th>\n",
       "      <td>5.847409e+01</td>\n",
       "    </tr>\n",
       "    <tr>\n",
       "      <th>population</th>\n",
       "      <td>1.380004e+09</td>\n",
       "    </tr>\n",
       "    <tr>\n",
       "      <th>population_density</th>\n",
       "      <td>4.504190e+02</td>\n",
       "    </tr>\n",
       "    <tr>\n",
       "      <th>median_age</th>\n",
       "      <td>2.820000e+01</td>\n",
       "    </tr>\n",
       "    <tr>\n",
       "      <th>aged_65_older</th>\n",
       "      <td>5.989000e+00</td>\n",
       "    </tr>\n",
       "    <tr>\n",
       "      <th>aged_70_older</th>\n",
       "      <td>3.414000e+00</td>\n",
       "    </tr>\n",
       "    <tr>\n",
       "      <th>gdp_per_capita</th>\n",
       "      <td>6.426674e+03</td>\n",
       "    </tr>\n",
       "    <tr>\n",
       "      <th>extreme_poverty</th>\n",
       "      <td>2.120000e+01</td>\n",
       "    </tr>\n",
       "    <tr>\n",
       "      <th>cardiovasc_death_rate</th>\n",
       "      <td>2.822800e+02</td>\n",
       "    </tr>\n",
       "    <tr>\n",
       "      <th>diabetes_prevalence</th>\n",
       "      <td>1.039000e+01</td>\n",
       "    </tr>\n",
       "    <tr>\n",
       "      <th>female_smokers</th>\n",
       "      <td>1.900000e+00</td>\n",
       "    </tr>\n",
       "    <tr>\n",
       "      <th>male_smokers</th>\n",
       "      <td>2.060000e+01</td>\n",
       "    </tr>\n",
       "    <tr>\n",
       "      <th>handwashing_facilities</th>\n",
       "      <td>5.955000e+01</td>\n",
       "    </tr>\n",
       "    <tr>\n",
       "      <th>hospital_beds_per_thousand</th>\n",
       "      <td>5.300000e-01</td>\n",
       "    </tr>\n",
       "    <tr>\n",
       "      <th>life_expectancy</th>\n",
       "      <td>6.966000e+01</td>\n",
       "    </tr>\n",
       "  </tbody>\n",
       "</table>\n",
       "</div>"
      ],
      "text/plain": [
       "                                            0\n",
       "total_cases                      3.098122e+05\n",
       "new_cases                        1.035395e+04\n",
       "new_cases_smoothed               5.546088e+01\n",
       "total_deaths                     7.603978e+03\n",
       "new_deaths                       2.048489e+02\n",
       "new_deaths_smoothed              2.199849e+00\n",
       "total_cases_per_million          2.245008e+02\n",
       "new_cases_per_million            7.502818e+00\n",
       "new_cases_smoothed_per_million   6.634640e+00\n",
       "total_deaths_per_million         5.510116e+00\n",
       "new_deaths_per_million           1.484311e-01\n",
       "new_deaths_smoothed_per_million  2.229244e-01\n",
       "new_tests                        1.163617e+05\n",
       "total_tests                      5.244796e+06\n",
       "total_tests_per_thousand         3.009893e+00\n",
       "new_tests_per_thousand           8.557778e-02\n",
       "new_tests_smoothed               1.068356e+05\n",
       "new_tests_smoothed_per_thousand  7.736444e-02\n",
       "tests_per_case                   1.279756e+01\n",
       "positive_rate                    4.743111e-02\n",
       "stringency_index                 5.847409e+01\n",
       "population                       1.380004e+09\n",
       "population_density               4.504190e+02\n",
       "median_age                       2.820000e+01\n",
       "aged_65_older                    5.989000e+00\n",
       "aged_70_older                    3.414000e+00\n",
       "gdp_per_capita                   6.426674e+03\n",
       "extreme_poverty                  2.120000e+01\n",
       "cardiovasc_death_rate            2.822800e+02\n",
       "diabetes_prevalence              1.039000e+01\n",
       "female_smokers                   1.900000e+00\n",
       "male_smokers                     2.060000e+01\n",
       "handwashing_facilities           5.955000e+01\n",
       "hospital_beds_per_thousand       5.300000e-01\n",
       "life_expectancy                  6.966000e+01"
      ]
     },
     "execution_count": 20,
     "metadata": {},
     "output_type": "execute_result"
    }
   ],
   "source": [
    "pd.DataFrame(df1.mean())"
   ]
  },
  {
   "cell_type": "markdown",
   "metadata": {},
   "source": [
    "# Median of feature columns"
   ]
  },
  {
   "cell_type": "code",
   "execution_count": 21,
   "metadata": {},
   "outputs": [
    {
     "data": {
      "text/html": [
       "<div>\n",
       "<style scoped>\n",
       "    .dataframe tbody tr th:only-of-type {\n",
       "        vertical-align: middle;\n",
       "    }\n",
       "\n",
       "    .dataframe tbody tr th {\n",
       "        vertical-align: top;\n",
       "    }\n",
       "\n",
       "    .dataframe thead th {\n",
       "        text-align: right;\n",
       "    }\n",
       "</style>\n",
       "<table border=\"1\" class=\"dataframe\">\n",
       "  <thead>\n",
       "    <tr style=\"text-align: right;\">\n",
       "      <th></th>\n",
       "      <th>0</th>\n",
       "    </tr>\n",
       "  </thead>\n",
       "  <tbody>\n",
       "    <tr>\n",
       "      <th>total_cases</th>\n",
       "      <td>1.998400e+04</td>\n",
       "    </tr>\n",
       "    <tr>\n",
       "      <th>new_cases</th>\n",
       "      <td>1.396000e+03</td>\n",
       "    </tr>\n",
       "    <tr>\n",
       "      <th>new_cases_smoothed</th>\n",
       "      <td>4.614300e+01</td>\n",
       "    </tr>\n",
       "    <tr>\n",
       "      <th>total_deaths</th>\n",
       "      <td>6.400000e+02</td>\n",
       "    </tr>\n",
       "    <tr>\n",
       "      <th>new_deaths</th>\n",
       "      <td>4.300000e+01</td>\n",
       "    </tr>\n",
       "    <tr>\n",
       "      <th>new_deaths_smoothed</th>\n",
       "      <td>1.286000e+00</td>\n",
       "    </tr>\n",
       "    <tr>\n",
       "      <th>total_cases_per_million</th>\n",
       "      <td>1.448100e+01</td>\n",
       "    </tr>\n",
       "    <tr>\n",
       "      <th>new_cases_per_million</th>\n",
       "      <td>1.012000e+00</td>\n",
       "    </tr>\n",
       "    <tr>\n",
       "      <th>new_cases_smoothed_per_million</th>\n",
       "      <td>4.392000e+00</td>\n",
       "    </tr>\n",
       "    <tr>\n",
       "      <th>total_deaths_per_million</th>\n",
       "      <td>4.640000e-01</td>\n",
       "    </tr>\n",
       "    <tr>\n",
       "      <th>new_deaths_per_million</th>\n",
       "      <td>3.100000e-02</td>\n",
       "    </tr>\n",
       "    <tr>\n",
       "      <th>new_deaths_smoothed_per_million</th>\n",
       "      <td>1.250000e-01</td>\n",
       "    </tr>\n",
       "    <tr>\n",
       "      <th>new_tests</th>\n",
       "      <td>3.700000e+04</td>\n",
       "    </tr>\n",
       "    <tr>\n",
       "      <th>total_tests</th>\n",
       "      <td>4.863270e+05</td>\n",
       "    </tr>\n",
       "    <tr>\n",
       "      <th>total_tests_per_thousand</th>\n",
       "      <td>3.460000e-01</td>\n",
       "    </tr>\n",
       "    <tr>\n",
       "      <th>new_tests_per_thousand</th>\n",
       "      <td>3.300000e-02</td>\n",
       "    </tr>\n",
       "    <tr>\n",
       "      <th>new_tests_smoothed</th>\n",
       "      <td>2.956900e+04</td>\n",
       "    </tr>\n",
       "    <tr>\n",
       "      <th>new_tests_smoothed_per_thousand</th>\n",
       "      <td>2.100000e-02</td>\n",
       "    </tr>\n",
       "    <tr>\n",
       "      <th>tests_per_case</th>\n",
       "      <td>1.081900e+01</td>\n",
       "    </tr>\n",
       "    <tr>\n",
       "      <th>positive_rate</th>\n",
       "      <td>4.200000e-02</td>\n",
       "    </tr>\n",
       "    <tr>\n",
       "      <th>stringency_index</th>\n",
       "      <td>7.685000e+01</td>\n",
       "    </tr>\n",
       "    <tr>\n",
       "      <th>population</th>\n",
       "      <td>1.380004e+09</td>\n",
       "    </tr>\n",
       "    <tr>\n",
       "      <th>population_density</th>\n",
       "      <td>4.504190e+02</td>\n",
       "    </tr>\n",
       "    <tr>\n",
       "      <th>median_age</th>\n",
       "      <td>2.820000e+01</td>\n",
       "    </tr>\n",
       "    <tr>\n",
       "      <th>aged_65_older</th>\n",
       "      <td>5.989000e+00</td>\n",
       "    </tr>\n",
       "    <tr>\n",
       "      <th>aged_70_older</th>\n",
       "      <td>3.414000e+00</td>\n",
       "    </tr>\n",
       "    <tr>\n",
       "      <th>gdp_per_capita</th>\n",
       "      <td>6.426674e+03</td>\n",
       "    </tr>\n",
       "    <tr>\n",
       "      <th>extreme_poverty</th>\n",
       "      <td>2.120000e+01</td>\n",
       "    </tr>\n",
       "    <tr>\n",
       "      <th>cardiovasc_death_rate</th>\n",
       "      <td>2.822800e+02</td>\n",
       "    </tr>\n",
       "    <tr>\n",
       "      <th>diabetes_prevalence</th>\n",
       "      <td>1.039000e+01</td>\n",
       "    </tr>\n",
       "    <tr>\n",
       "      <th>female_smokers</th>\n",
       "      <td>1.900000e+00</td>\n",
       "    </tr>\n",
       "    <tr>\n",
       "      <th>male_smokers</th>\n",
       "      <td>2.060000e+01</td>\n",
       "    </tr>\n",
       "    <tr>\n",
       "      <th>handwashing_facilities</th>\n",
       "      <td>5.955000e+01</td>\n",
       "    </tr>\n",
       "    <tr>\n",
       "      <th>hospital_beds_per_thousand</th>\n",
       "      <td>5.300000e-01</td>\n",
       "    </tr>\n",
       "    <tr>\n",
       "      <th>life_expectancy</th>\n",
       "      <td>6.966000e+01</td>\n",
       "    </tr>\n",
       "  </tbody>\n",
       "</table>\n",
       "</div>"
      ],
      "text/plain": [
       "                                            0\n",
       "total_cases                      1.998400e+04\n",
       "new_cases                        1.396000e+03\n",
       "new_cases_smoothed               4.614300e+01\n",
       "total_deaths                     6.400000e+02\n",
       "new_deaths                       4.300000e+01\n",
       "new_deaths_smoothed              1.286000e+00\n",
       "total_cases_per_million          1.448100e+01\n",
       "new_cases_per_million            1.012000e+00\n",
       "new_cases_smoothed_per_million   4.392000e+00\n",
       "total_deaths_per_million         4.640000e-01\n",
       "new_deaths_per_million           3.100000e-02\n",
       "new_deaths_smoothed_per_million  1.250000e-01\n",
       "new_tests                        3.700000e+04\n",
       "total_tests                      4.863270e+05\n",
       "total_tests_per_thousand         3.460000e-01\n",
       "new_tests_per_thousand           3.300000e-02\n",
       "new_tests_smoothed               2.956900e+04\n",
       "new_tests_smoothed_per_thousand  2.100000e-02\n",
       "tests_per_case                   1.081900e+01\n",
       "positive_rate                    4.200000e-02\n",
       "stringency_index                 7.685000e+01\n",
       "population                       1.380004e+09\n",
       "population_density               4.504190e+02\n",
       "median_age                       2.820000e+01\n",
       "aged_65_older                    5.989000e+00\n",
       "aged_70_older                    3.414000e+00\n",
       "gdp_per_capita                   6.426674e+03\n",
       "extreme_poverty                  2.120000e+01\n",
       "cardiovasc_death_rate            2.822800e+02\n",
       "diabetes_prevalence              1.039000e+01\n",
       "female_smokers                   1.900000e+00\n",
       "male_smokers                     2.060000e+01\n",
       "handwashing_facilities           5.955000e+01\n",
       "hospital_beds_per_thousand       5.300000e-01\n",
       "life_expectancy                  6.966000e+01"
      ]
     },
     "execution_count": 21,
     "metadata": {},
     "output_type": "execute_result"
    }
   ],
   "source": [
    "pd.DataFrame(df1.median())"
   ]
  },
  {
   "cell_type": "markdown",
   "metadata": {},
   "source": [
    "# Mode of feature columns"
   ]
  },
  {
   "cell_type": "code",
   "execution_count": 22,
   "metadata": {},
   "outputs": [],
   "source": [
    "modedf1 = df1[['total_cases', 'new_cases',\n",
    "        'new_cases_smoothed', 'total_deaths', 'new_deaths',\n",
    "        'new_deaths_smoothed', 'total_cases_per_million',\n",
    "        'new_cases_per_million', 'new_cases_smoothed_per_million',\n",
    "        'total_deaths_per_million', 'new_deaths_per_million',\n",
    "        'new_deaths_smoothed_per_million', 'new_tests', 'total_tests',\n",
    "        'total_tests_per_thousand', 'new_tests_per_thousand',\n",
    "        'new_tests_smoothed', 'new_tests_smoothed_per_thousand',\n",
    "        'tests_per_case', 'positive_rate', 'stringency_index',\n",
    "        'population', 'population_density', 'median_age', 'aged_65_older',\n",
    "        'aged_70_older', 'gdp_per_capita', 'extreme_poverty',\n",
    "        'cardiovasc_death_rate', 'diabetes_prevalence', 'female_smokers',\n",
    "        'male_smokers', 'handwashing_facilities', 'hospital_beds_per_thousand',\n",
    "        'life_expectancy']].mode()"
   ]
  },
  {
   "cell_type": "code",
   "execution_count": 23,
   "metadata": {},
   "outputs": [
    {
     "data": {
      "text/html": [
       "<div>\n",
       "<style scoped>\n",
       "    .dataframe tbody tr th:only-of-type {\n",
       "        vertical-align: middle;\n",
       "    }\n",
       "\n",
       "    .dataframe tbody tr th {\n",
       "        vertical-align: top;\n",
       "    }\n",
       "\n",
       "    .dataframe thead th {\n",
       "        text-align: right;\n",
       "    }\n",
       "</style>\n",
       "<table border=\"1\" class=\"dataframe\">\n",
       "  <thead>\n",
       "    <tr style=\"text-align: right;\">\n",
       "      <th></th>\n",
       "      <th>0</th>\n",
       "    </tr>\n",
       "  </thead>\n",
       "  <tbody>\n",
       "    <tr>\n",
       "      <th>total_cases</th>\n",
       "      <td>0.000000e+00</td>\n",
       "    </tr>\n",
       "    <tr>\n",
       "      <th>new_cases</th>\n",
       "      <td>0.000000e+00</td>\n",
       "    </tr>\n",
       "    <tr>\n",
       "      <th>new_cases_smoothed</th>\n",
       "      <td>1.857000e+00</td>\n",
       "    </tr>\n",
       "    <tr>\n",
       "      <th>total_deaths</th>\n",
       "      <td>0.000000e+00</td>\n",
       "    </tr>\n",
       "    <tr>\n",
       "      <th>new_deaths</th>\n",
       "      <td>0.000000e+00</td>\n",
       "    </tr>\n",
       "    <tr>\n",
       "      <th>new_deaths_smoothed</th>\n",
       "      <td>0.000000e+00</td>\n",
       "    </tr>\n",
       "    <tr>\n",
       "      <th>total_cases_per_million</th>\n",
       "      <td>0.000000e+00</td>\n",
       "    </tr>\n",
       "    <tr>\n",
       "      <th>new_cases_per_million</th>\n",
       "      <td>0.000000e+00</td>\n",
       "    </tr>\n",
       "    <tr>\n",
       "      <th>new_cases_smoothed_per_million</th>\n",
       "      <td>1.630000e-01</td>\n",
       "    </tr>\n",
       "    <tr>\n",
       "      <th>total_deaths_per_million</th>\n",
       "      <td>0.000000e+00</td>\n",
       "    </tr>\n",
       "    <tr>\n",
       "      <th>new_deaths_per_million</th>\n",
       "      <td>0.000000e+00</td>\n",
       "    </tr>\n",
       "    <tr>\n",
       "      <th>new_deaths_smoothed_per_million</th>\n",
       "      <td>0.000000e+00</td>\n",
       "    </tr>\n",
       "    <tr>\n",
       "      <th>new_tests</th>\n",
       "      <td>0.000000e+00</td>\n",
       "    </tr>\n",
       "    <tr>\n",
       "      <th>total_tests</th>\n",
       "      <td>0.000000e+00</td>\n",
       "    </tr>\n",
       "    <tr>\n",
       "      <th>total_tests_per_thousand</th>\n",
       "      <td>0.000000e+00</td>\n",
       "    </tr>\n",
       "    <tr>\n",
       "      <th>new_tests_per_thousand</th>\n",
       "      <td>0.000000e+00</td>\n",
       "    </tr>\n",
       "    <tr>\n",
       "      <th>new_tests_smoothed</th>\n",
       "      <td>0.000000e+00</td>\n",
       "    </tr>\n",
       "    <tr>\n",
       "      <th>new_tests_smoothed_per_thousand</th>\n",
       "      <td>0.000000e+00</td>\n",
       "    </tr>\n",
       "    <tr>\n",
       "      <th>tests_per_case</th>\n",
       "      <td>0.000000e+00</td>\n",
       "    </tr>\n",
       "    <tr>\n",
       "      <th>positive_rate</th>\n",
       "      <td>0.000000e+00</td>\n",
       "    </tr>\n",
       "    <tr>\n",
       "      <th>stringency_index</th>\n",
       "      <td>1.019000e+01</td>\n",
       "    </tr>\n",
       "    <tr>\n",
       "      <th>population</th>\n",
       "      <td>1.380004e+09</td>\n",
       "    </tr>\n",
       "    <tr>\n",
       "      <th>population_density</th>\n",
       "      <td>4.504190e+02</td>\n",
       "    </tr>\n",
       "    <tr>\n",
       "      <th>median_age</th>\n",
       "      <td>2.820000e+01</td>\n",
       "    </tr>\n",
       "    <tr>\n",
       "      <th>aged_65_older</th>\n",
       "      <td>5.989000e+00</td>\n",
       "    </tr>\n",
       "    <tr>\n",
       "      <th>aged_70_older</th>\n",
       "      <td>3.414000e+00</td>\n",
       "    </tr>\n",
       "    <tr>\n",
       "      <th>gdp_per_capita</th>\n",
       "      <td>6.426674e+03</td>\n",
       "    </tr>\n",
       "    <tr>\n",
       "      <th>extreme_poverty</th>\n",
       "      <td>2.120000e+01</td>\n",
       "    </tr>\n",
       "    <tr>\n",
       "      <th>cardiovasc_death_rate</th>\n",
       "      <td>2.822800e+02</td>\n",
       "    </tr>\n",
       "    <tr>\n",
       "      <th>diabetes_prevalence</th>\n",
       "      <td>1.039000e+01</td>\n",
       "    </tr>\n",
       "    <tr>\n",
       "      <th>female_smokers</th>\n",
       "      <td>1.900000e+00</td>\n",
       "    </tr>\n",
       "    <tr>\n",
       "      <th>male_smokers</th>\n",
       "      <td>2.060000e+01</td>\n",
       "    </tr>\n",
       "    <tr>\n",
       "      <th>handwashing_facilities</th>\n",
       "      <td>5.955000e+01</td>\n",
       "    </tr>\n",
       "    <tr>\n",
       "      <th>hospital_beds_per_thousand</th>\n",
       "      <td>5.300000e-01</td>\n",
       "    </tr>\n",
       "    <tr>\n",
       "      <th>life_expectancy</th>\n",
       "      <td>6.966000e+01</td>\n",
       "    </tr>\n",
       "  </tbody>\n",
       "</table>\n",
       "</div>"
      ],
      "text/plain": [
       "                                            0\n",
       "total_cases                      0.000000e+00\n",
       "new_cases                        0.000000e+00\n",
       "new_cases_smoothed               1.857000e+00\n",
       "total_deaths                     0.000000e+00\n",
       "new_deaths                       0.000000e+00\n",
       "new_deaths_smoothed              0.000000e+00\n",
       "total_cases_per_million          0.000000e+00\n",
       "new_cases_per_million            0.000000e+00\n",
       "new_cases_smoothed_per_million   1.630000e-01\n",
       "total_deaths_per_million         0.000000e+00\n",
       "new_deaths_per_million           0.000000e+00\n",
       "new_deaths_smoothed_per_million  0.000000e+00\n",
       "new_tests                        0.000000e+00\n",
       "total_tests                      0.000000e+00\n",
       "total_tests_per_thousand         0.000000e+00\n",
       "new_tests_per_thousand           0.000000e+00\n",
       "new_tests_smoothed               0.000000e+00\n",
       "new_tests_smoothed_per_thousand  0.000000e+00\n",
       "tests_per_case                   0.000000e+00\n",
       "positive_rate                    0.000000e+00\n",
       "stringency_index                 1.019000e+01\n",
       "population                       1.380004e+09\n",
       "population_density               4.504190e+02\n",
       "median_age                       2.820000e+01\n",
       "aged_65_older                    5.989000e+00\n",
       "aged_70_older                    3.414000e+00\n",
       "gdp_per_capita                   6.426674e+03\n",
       "extreme_poverty                  2.120000e+01\n",
       "cardiovasc_death_rate            2.822800e+02\n",
       "diabetes_prevalence              1.039000e+01\n",
       "female_smokers                   1.900000e+00\n",
       "male_smokers                     2.060000e+01\n",
       "handwashing_facilities           5.955000e+01\n",
       "hospital_beds_per_thousand       5.300000e-01\n",
       "life_expectancy                  6.966000e+01"
      ]
     },
     "execution_count": 23,
     "metadata": {},
     "output_type": "execute_result"
    }
   ],
   "source": [
    "modedf1.transpose()"
   ]
  },
  {
   "cell_type": "markdown",
   "metadata": {},
   "source": [
    "# Bivariate Analysis"
   ]
  },
  {
   "cell_type": "markdown",
   "metadata": {},
   "source": [
    "## A. Scatter plot of target column versus 10 feature columns"
   ]
  },
  {
   "cell_type": "code",
   "execution_count": 24,
   "metadata": {},
   "outputs": [
    {
     "data": {
      "text/plain": [
       "<matplotlib.axes._subplots.AxesSubplot at 0x21e1c187148>"
      ]
     },
     "execution_count": 24,
     "metadata": {},
     "output_type": "execute_result"
    },
    {
     "data": {
      "image/png": "[encoded data removed]",
      "text/plain": [
       "<Figure size 720x576 with 1 Axes>"
      ]
     },
     "metadata": {
      "needs_background": "light"
     },
     "output_type": "display_data"
    }
   ],
   "source": [
    "df.plot.scatter(x='new_cases',y='total_cases',color='r')"
   ]
  },
  {
   "cell_type": "code",
   "execution_count": 25,
   "metadata": {},
   "outputs": [
    {
     "data": {
      "text/plain": [
       "<matplotlib.axes._subplots.AxesSubplot at 0x21e1c5d0d88>"
      ]
     },
     "execution_count": 25,
     "metadata": {},
     "output_type": "execute_result"
    },
    {
     "data": {
      "image/png": "[encoded data removed]",
      "text/plain": [
       "<Figure size 720x576 with 1 Axes>"
      ]
     },
     "metadata": {
      "needs_background": "light"
     },
     "output_type": "display_data"
    }
   ],
   "source": [
    "df.plot.scatter(x='total_cases_per_million',y='total_cases',)"
   ]
  },
  {
   "cell_type": "code",
   "execution_count": 26,
   "metadata": {},
   "outputs": [
    {
     "data": {
      "text/plain": [
       "<matplotlib.axes._subplots.AxesSubplot at 0x21e1c5d8708>"
      ]
     },
     "execution_count": 26,
     "metadata": {},
     "output_type": "execute_result"
    },
    {
     "data": {
      "image/png": "[encoded data removed]",
      "text/plain": [
       "<Figure size 720x576 with 1 Axes>"
      ]
     },
     "metadata": {
      "needs_background": "light"
     },
     "output_type": "display_data"
    }
   ],
   "source": [
    "df.plot.scatter(x='new_cases_per_million',y='total_cases',color='g')"
   ]
  },
  {
   "cell_type": "code",
   "execution_count": 27,
   "metadata": {},
   "outputs": [
    {
     "data": {
      "text/plain": [
       "<matplotlib.axes._subplots.AxesSubplot at 0x21e1cd0df88>"
      ]
     },
     "execution_count": 27,
     "metadata": {},
     "output_type": "execute_result"
    },
    {
     "data": {
      "image/png": "[encoded data removed]",
      "text/plain": [
       "<Figure size 720x576 with 1 Axes>"
      ]
     },
     "metadata": {
      "needs_background": "light"
     },
     "output_type": "display_data"
    }
   ],
   "source": [
    "df.plot.scatter(x='stringency_index',y='total_cases')"
   ]
  },
  {
   "cell_type": "code",
   "execution_count": 28,
   "metadata": {},
   "outputs": [
    {
     "data": {
      "text/plain": [
       "<matplotlib.axes._subplots.AxesSubplot at 0x21e1ce9ff48>"
      ]
     },
     "execution_count": 28,
     "metadata": {},
     "output_type": "execute_result"
    },
    {
     "data": {
      "image/png": "[encoded data removed]",
      "text/plain": [
       "<Figure size 720x576 with 1 Axes>"
      ]
     },
     "metadata": {
      "needs_background": "light"
     },
     "output_type": "display_data"
    }
   ],
   "source": [
    "df.plot.scatter(x='new_deaths',y='total_cases',color='b')"
   ]
  },
  {
   "cell_type": "code",
   "execution_count": 29,
   "metadata": {},
   "outputs": [
    {
     "data": {
      "text/plain": [
       "<matplotlib.axes._subplots.AxesSubplot at 0x21e1c9d31c8>"
      ]
     },
     "execution_count": 29,
     "metadata": {},
     "output_type": "execute_result"
    },
    {
     "data": {
      "image/png": "[encoded data removed]",
      "text/plain": [
       "<Figure size 720x576 with 1 Axes>"
      ]
     },
     "metadata": {
      "needs_background": "light"
     },
     "output_type": "display_data"
    }
   ],
   "source": [
    "df.plot.scatter(x='total_deaths_per_million',y='total_cases',color='g')"
   ]
  },
  {
   "cell_type": "code",
   "execution_count": 30,
   "metadata": {},
   "outputs": [
    {
     "data": {
      "text/plain": [
       "<matplotlib.axes._subplots.AxesSubplot at 0x21e1d054688>"
      ]
     },
     "execution_count": 30,
     "metadata": {},
     "output_type": "execute_result"
    },
    {
     "data": {
      "image/png": "[encoded data removed]",
      "text/plain": [
       "<Figure size 720x576 with 1 Axes>"
      ]
     },
     "metadata": {
      "needs_background": "light"
     },
     "output_type": "display_data"
    }
   ],
   "source": [
    "df.plot.scatter(x='new_tests',y='total_cases',color='r')"
   ]
  },
  {
   "cell_type": "code",
   "execution_count": 31,
   "metadata": {},
   "outputs": [
    {
     "data": {
      "text/plain": [
       "<matplotlib.axes._subplots.AxesSubplot at 0x21e1d3abec8>"
      ]
     },
     "execution_count": 31,
     "metadata": {},
     "output_type": "execute_result"
    },
    {
     "data": {
      "image/png": "[encoded data removed]",
      "text/plain": [
       "<Figure size 720x576 with 1 Axes>"
      ]
     },
     "metadata": {
      "needs_background": "light"
     },
     "output_type": "display_data"
    }
   ],
   "source": [
    "df.plot.scatter(x='median_age',y='total_cases',color='b')"
   ]
  },
  {
   "cell_type": "code",
   "execution_count": 32,
   "metadata": {},
   "outputs": [
    {
     "data": {
      "text/plain": [
       "<matplotlib.axes._subplots.AxesSubplot at 0x21e1d3e8088>"
      ]
     },
     "execution_count": 32,
     "metadata": {},
     "output_type": "execute_result"
    },
    {
     "data": {
      "image/png": "[encoded data removed]",
      "text/plain": [
       "<Figure size 720x576 with 1 Axes>"
      ]
     },
     "metadata": {
      "needs_background": "light"
     },
     "output_type": "display_data"
    }
   ],
   "source": [
    "df.plot.scatter(x='positive_rate',y='total_cases',color='g')"
   ]
  },
  {
   "cell_type": "code",
   "execution_count": 33,
   "metadata": {},
   "outputs": [
    {
     "data": {
      "text/plain": [
       "<matplotlib.axes._subplots.AxesSubplot at 0x21e1d572f88>"
      ]
     },
     "execution_count": 33,
     "metadata": {},
     "output_type": "execute_result"
    },
    {
     "data": {
      "image/png": "[encoded data removed]",
      "text/plain": [
       "<Figure size 720x576 with 1 Axes>"
      ]
     },
     "metadata": {
      "needs_background": "light"
     },
     "output_type": "display_data"
    }
   ],
   "source": [
    "df.plot.scatter(x='cardiovasc_death_rate',y='total_cases',color='r')"
   ]
  },
  {
   "cell_type": "markdown",
   "metadata": {},
   "source": [
    "## b. Line plot of target column versus 10 feature columns"
   ]
  },
  {
   "cell_type": "code",
   "execution_count": 34,
   "metadata": {},
   "outputs": [
    {
     "data": {
      "text/plain": [
       "<matplotlib.axes._subplots.AxesSubplot at 0x21e1e3579c8>"
      ]
     },
     "execution_count": 34,
     "metadata": {},
     "output_type": "execute_result"
    },
    {
     "data": {
      "image/png": "[encoded data removed]",
      "text/plain": [
       "<Figure size 720x576 with 1 Axes>"
      ]
     },
     "metadata": {
      "needs_background": "light"
     },
     "output_type": "display_data"
    }
   ],
   "source": [
    "sns.lineplot('new_cases','total_cases',data=df1,color=\"g\")"
   ]
  },
  {
   "cell_type": "code",
   "execution_count": 35,
   "metadata": {},
   "outputs": [
    {
     "data": {
      "text/plain": [
       "<matplotlib.axes._subplots.AxesSubplot at 0x21e1d5e1308>"
      ]
     },
     "execution_count": 35,
     "metadata": {},
     "output_type": "execute_result"
    },
    {
     "data": {
      "image/png": "[encoded data removed]",
      "text/plain": [
       "<Figure size 720x576 with 1 Axes>"
      ]
     },
     "metadata": {
      "needs_background": "light"
     },
     "output_type": "display_data"
    }
   ],
   "source": [
    "sns.lineplot('total_tests_per_thousand','total_cases',data=df1,color=\"b\")"
   ]
  },
  {
   "cell_type": "code",
   "execution_count": 36,
   "metadata": {},
   "outputs": [
    {
     "data": {
      "text/plain": [
       "<matplotlib.axes._subplots.AxesSubplot at 0x21e1d5e9988>"
      ]
     },
     "execution_count": 36,
     "metadata": {},
     "output_type": "execute_result"
    },
    {
     "data": {
      "image/png": "[encoded data removed]",
      "text/plain": [
       "<Figure size 720x576 with 1 Axes>"
      ]
     },
     "metadata": {
      "needs_background": "light"
     },
     "output_type": "display_data"
    }
   ],
   "source": [
    "sns.lineplot('stringency_index','total_cases',data=df1,color=\"g\")"
   ]
  },
  {
   "cell_type": "code",
   "execution_count": 37,
   "metadata": {},
   "outputs": [
    {
     "data": {
      "text/plain": [
       "<matplotlib.axes._subplots.AxesSubplot at 0x21e1db182c8>"
      ]
     },
     "execution_count": 37,
     "metadata": {},
     "output_type": "execute_result"
    },
    {
     "data": {
      "image/png": "[encoded data removed]",
      "text/plain": [
       "<Figure size 720x576 with 1 Axes>"
      ]
     },
     "metadata": {
      "needs_background": "light"
     },
     "output_type": "display_data"
    }
   ],
   "source": [
    "sns.lineplot('new_deaths','total_cases',data=df1,color=\"b\")"
   ]
  },
  {
   "cell_type": "code",
   "execution_count": 38,
   "metadata": {},
   "outputs": [
    {
     "data": {
      "text/plain": [
       "<matplotlib.axes._subplots.AxesSubplot at 0x21e1db8c108>"
      ]
     },
     "execution_count": 38,
     "metadata": {},
     "output_type": "execute_result"
    },
    {
     "data": {
      "image/png": "[encoded data removed]",
      "text/plain": [
       "<Figure size 720x576 with 1 Axes>"
      ]
     },
     "metadata": {
      "needs_background": "light"
     },
     "output_type": "display_data"
    }
   ],
   "source": [
    "sns.lineplot('new_tests','total_cases',data=df1,color=\"g\")"
   ]
  },
  {
   "cell_type": "code",
   "execution_count": null,
   "metadata": {},
   "outputs": [],
   "source": [
    "sns.lineplot('positive_rate','total_cases',data=df1,color=\"b\")"
   ]
  },
  {
   "cell_type": "code",
   "execution_count": null,
   "metadata": {},
   "outputs": [],
   "source": [
    "sns.lineplot('new_tests_per_thousand','total_cases',data=df1,color=\"g\")"
   ]
  },
  {
   "cell_type": "code",
   "execution_count": null,
   "metadata": {},
   "outputs": [],
   "source": [
    "sns.lineplot('tests_per_case','total_cases',data=df1,color='b')"
   ]
  },
  {
   "cell_type": "code",
   "execution_count": null,
   "metadata": {},
   "outputs": [],
   "source": [
    "sns.lineplot('total_deaths_per_million','total_cases',data=df1,color='g')"
   ]
  },
  {
   "cell_type": "code",
   "execution_count": null,
   "metadata": {},
   "outputs": [],
   "source": [
    "sns.lineplot('new_tests_smoothed_per_thousand','total_cases',data=df1,color='b')"
   ]
  },
  {
   "cell_type": "markdown",
   "metadata": {},
   "source": [
    "## conversion of \"date\" column to ordinal"
   ]
  },
  {
   "cell_type": "code",
   "execution_count": null,
   "metadata": {},
   "outputs": [],
   "source": [
    "import datetime as dt"
   ]
  },
  {
   "cell_type": "code",
   "execution_count": null,
   "metadata": {},
   "outputs": [],
   "source": [
    "import warnings\n",
    "warnings.filterwarnings('ignore')\n",
    "\n",
    "df1[\"date\"]=pd.to_datetime(df1[\"date\"])\n",
    "df1[\"date\"]=df1[\"date\"].map(dt.datetime.toordinal)"
   ]
  },
  {
   "cell_type": "code",
   "execution_count": null,
   "metadata": {},
   "outputs": [],
   "source": [
    "df1"
   ]
  },
  {
   "cell_type": "markdown",
   "metadata": {},
   "source": [
    "# dropping the useless columns"
   ]
  },
  {
   "cell_type": "code",
   "execution_count": null,
   "metadata": {},
   "outputs": [],
   "source": [
    "df1=df1.drop([\"iso_code\",\"continent\",\"location\",\"tests_units\",\"stringency_index\", 'median_age', 'gdp_per_capita', 'extreme_poverty','handwashing_facilities', 'hospital_beds_per_thousand','new_cases_smoothed','total_deaths','new_deaths','new_deaths_smoothed','new_cases_smoothed_per_million','total_deaths_per_million','new_deaths_per_million','new_deaths_smoothed_per_million','new_tests_smoothed','new_deaths_smoothed_per_million','new_tests_smoothed_per_thousand','gdp_per_capita','extreme_poverty','life_expectancy'],axis=1)"
   ]
  },
  {
   "cell_type": "code",
   "execution_count": null,
   "metadata": {
    "scrolled": true
   },
   "outputs": [],
   "source": [
    "df1.info()"
   ]
  },
  {
   "cell_type": "code",
   "execution_count": null,
   "metadata": {},
   "outputs": [],
   "source": [
    "x=df1.drop([\"total_cases\"],axis=1).values\n",
    "y=df1[\"total_cases\"].values"
   ]
  },
  {
   "cell_type": "markdown",
   "metadata": {},
   "source": [
    "# Performing Train-Test-Split"
   ]
  },
  {
   "cell_type": "code",
   "execution_count": null,
   "metadata": {},
   "outputs": [],
   "source": [
    "from sklearn.model_selection import train_test_split"
   ]
  },
  {
   "cell_type": "code",
   "execution_count": null,
   "metadata": {},
   "outputs": [],
   "source": [
    "x_train,x_test,y_train,y_test = train_test_split(x,y,test_size=0.3,random_state=42)"
   ]
  },
  {
   "cell_type": "code",
   "execution_count": null,
   "metadata": {},
   "outputs": [],
   "source": [
    "x_train.shape,x_test.shape,y_train.shape,y_test.shape"
   ]
  },
  {
   "cell_type": "markdown",
   "metadata": {},
   "source": [
    "# Modelling"
   ]
  },
  {
   "cell_type": "markdown",
   "metadata": {},
   "source": [
    "## 1.Linear Regression"
   ]
  },
  {
   "cell_type": "code",
   "execution_count": null,
   "metadata": {},
   "outputs": [],
   "source": [
    "from sklearn.linear_model import LinearRegression"
   ]
  },
  {
   "cell_type": "code",
   "execution_count": null,
   "metadata": {},
   "outputs": [],
   "source": [
    "reg =LinearRegression()"
   ]
  },
  {
   "cell_type": "code",
   "execution_count": null,
   "metadata": {},
   "outputs": [],
   "source": [
    "reg.fit(x_train,y_train)"
   ]
  },
  {
   "cell_type": "code",
   "execution_count": null,
   "metadata": {},
   "outputs": [],
   "source": [
    "reg.score(x_test,y_test)"
   ]
  },
  {
   "cell_type": "code",
   "execution_count": null,
   "metadata": {},
   "outputs": [],
   "source": [
    "reg.predict(x_test)"
   ]
  },
  {
   "cell_type": "markdown",
   "metadata": {},
   "source": [
    "## 2.Random Forest Regressor"
   ]
  },
  {
   "cell_type": "code",
   "execution_count": null,
   "metadata": {},
   "outputs": [],
   "source": [
    "from sklearn.ensemble import RandomForestRegressor"
   ]
  },
  {
   "cell_type": "code",
   "execution_count": null,
   "metadata": {},
   "outputs": [],
   "source": [
    "Random=RandomForestRegressor()"
   ]
  },
  {
   "cell_type": "code",
   "execution_count": null,
   "metadata": {},
   "outputs": [],
   "source": [
    "Random.fit(x_train,y_train)"
   ]
  },
  {
   "cell_type": "code",
   "execution_count": null,
   "metadata": {},
   "outputs": [],
   "source": [
    "y_pred = Random.predict(x_test)\n",
    "y_pred"
   ]
  },
  {
   "cell_type": "markdown",
   "metadata": {},
   "source": [
    "# Prediction of Total cases: Answer the questions asked below"
   ]
  },
  {
   "cell_type": "code",
   "execution_count": null,
   "metadata": {},
   "outputs": [],
   "source": [
    "import random"
   ]
  },
  {
   "cell_type": "code",
   "execution_count": null,
   "metadata": {},
   "outputs": [],
   "source": [
    "year = int(input('Enter a year (Ex- \"2020\") :'))\n",
    "month = int(input('Enter a month (Ex- for August enter \"08\") :'))\n",
    "day = int(input('Enter a day (Ex- \"25\") :'))\n",
    "date1 = dt.date(year,month,day) \n",
    "dpo = date1.toordinal()"
   ]
  },
  {
   "cell_type": "code",
   "execution_count": null,
   "metadata": {},
   "outputs": [],
   "source": [
    "def prediction():\n",
    "    #year = int(input('Enter a year (Ex- \"2020\") :'))\n",
    "    #month = int(input('Enter a month (Ex- for August enter \"08\") :'))\n",
    "    #day = int(input('Enter a day (Ex- \"25\") :'))\n",
    "    #date1 = dt.date(year,month,day) \n",
    "    #dpo = date1.toordinal()\n",
    "    \n",
    "    lrc = reg.predict([[dpo,random.randint(62000,65000),random.randint(1675,1700),random.randint(45,50),\n",
    "                       random.randint(825000,850000), random.randint(30000000,31500000), np.linspace(22.000,25.000, num = 1),\n",
    "                       np.linspace(0.500,0.600, num = 1),np.linspace(12.000,15.000, num = 1),np.linspace(0.085,0.099, num = 1),\n",
    "                        1380004385,450.419,5.989,3.414,282.28,10.39,1.9,20.6]])\n",
    "    \n",
    "    \n",
    "    rfrc = Random.predict([[dpo,random.randint(62000,65000),random.randint(1675,1700),random.randint(45,50),\n",
    "                        random.randint(825000,850000), random.randint(30000000,31500000), np.linspace(22.000,25.000, num = 1),\n",
    "                        np.linspace(0.500,0.600, num = 1),np.linspace(12.000,15.000, num = 1),np.linspace(0.085,0.099, num = 1),\n",
    "                        1380004385,450.419,5.989,3.414,282.28,10.39,1.9,20.6]])\n",
    "    \n",
    "    \n",
    "    from datetime import datetime\n",
    "    pred_date = datetime.fromordinal(dpo)\n",
    "    \n",
    "    linreg = int(lrc)\n",
    "    rfreg = int(rfrc)\n",
    "    return print(\"\\nThe total predicted cases on {} are:\\nLinear Regression = {} \\nRandom Forest Regression = {}\".format(pred_date,linreg, rfreg ))"
   ]
  },
  {
   "cell_type": "code",
   "execution_count": null,
   "metadata": {},
   "outputs": [],
   "source": []
  }
 ],
 "metadata": {
  "kernelspec": {
   "display_name": "Python 3",
   "language": "python",
   "name": "python3"
  },
  "language_info": {
   "codemirror_mode": {
    "name": "ipython",
    "version": 3
   },
   "file_extension": ".py",
   "mimetype": "text/x-python",
   "name": "python",
   "nbconvert_exporter": "python",
   "pygments_lexer": "ipython3",
   "version": "3.7.6"
  }
 },
 "nbformat": 4,
 "nbformat_minor": 4
}
